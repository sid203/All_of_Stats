{
 "cells": [
  {
   "cell_type": "code",
   "execution_count": 25,
   "metadata": {
    "collapsed": false
   },
   "outputs": [],
   "source": [
    "import numpy as np\n",
    "import pandas as pd\n",
    "import os\n",
    "from sklearn import linear_model\n",
    "\n",
    "\n",
    "'''Artificial Noise'''\n",
    "def add_noise(delta,f):\n",
    "    list_of_dataframes=[]\n",
    "    features_used = f.copy()\n",
    "    artificial_error=np.random.binomial(1,delta,features_used.shape[0]) / ((1-(delta)))\n",
    "    for i in range(features_used.shape[1]):\n",
    "        features_used.iloc[:,i]= artificial_error * features_used.iloc[:,i]\n",
    "    \n",
    "    return features_used\n",
    "\n",
    "'''Fit the model and calculate error'''\n",
    "def calculate_error(X,y):\n",
    "    reg = linear_model.LinearRegression(normalize= True,fit_intercept=True)\n",
    "    reg.fit(X,y)\n",
    "    preds=reg.predict(X)\n",
    "    \n",
    "    return np.mean(np.square(preds - y))\n",
    "\n",
    "''''''\n",
    "def delta_run(delta_vec,m,features,response):\n",
    "    df=pd.DataFrame(columns=['delta_values','values_of_m','errors'])\n",
    "    m_errors=[]\n",
    "    m_values=[]\n",
    "    delta_values=[]\n",
    "    \n",
    "    for delta in delta_vec:\n",
    "        for i in range(m):\n",
    "            m_errors.append(calculate_error(add_noise(delta,features).values,response))\n",
    "            m_values.append(i)\n",
    "            delta_values.append(delta)\n",
    "            \n",
    "    df.iloc[:,0]=delta_values\n",
    "    df.iloc[:,1]=m_values\n",
    "    df.iloc[:,2]=m_errors\n",
    "    return df"
   ]
  },
  {
   "cell_type": "code",
   "execution_count": 26,
   "metadata": {
    "collapsed": false
   },
   "outputs": [],
   "source": [
    "'''Load the Data'''\n",
    "data = pd.read_csv('supernova.csv',encoding='utf8')\n",
    "data = data.iloc[:,1:]\n",
    "data.set_index('SN',inplace=True)\n",
    "\n",
    "'''Train1 and Test1'''\n",
    "train_1 = data.iloc[:25,:10]\n",
    "response_1 = data.iloc[:25,10]\n",
    "test_1 = data.iloc[25:,:10]\n",
    "y_1 = data.iloc[25:,10]\n",
    "\n",
    "\n",
    "'''Train2 and Test2'''\n",
    "train_2 = data.iloc[14:,:10]\n",
    "response_2 = data.iloc[14:,10]\n",
    "test_2 = data.iloc[:14,:10]\n",
    "y_2 = data.iloc[:14,10]\n",
    "\n",
    "\n",
    "'''Train3 and Test3'''\n",
    "train_3 = data.iloc[19:,:10]\n",
    "response_3 = data.iloc[19:,10]\n",
    "test_3 = data.iloc[:19,:10]\n",
    "y_3 = data.iloc[:19,10]\n",
    "\n",
    "\n",
    "'''Train4 and Test4'''\n",
    "train_4 = pd.concat([data.iloc[:9,:10],data.iloc[23:,:10]])\n",
    "response_4 = pd.concat([data.iloc[:9,10],data.iloc[23:,10]])\n",
    "test_4 = data.iloc[9:23,:10]\n",
    "y_4 = data.iloc[9:23,10]"
   ]
  },
  {
   "cell_type": "code",
   "execution_count": 23,
   "metadata": {
    "collapsed": true
   },
   "outputs": [],
   "source": [
    "'''Train 1 and Test 1'''\n",
    "delta_arr=np.arange(0,1,0.1)\n",
    "train_df_1=delta_run(delta_arr,1000,train_1,response_1)\n",
    "test_df_1=delta_run(delta_arr,1000,test_1,y_1)\n",
    "\n",
    "'''Train 2 and Test 2'''\n",
    "delta_arr=np.arange(0,1,0.1)\n",
    "train_df_2=delta_run(delta_arr,1000,train_2,response_2)\n",
    "test_df_2=delta_run(delta_arr,1000,test_2,y_2)\n",
    "\n",
    "'''Train 3 and Test 3'''\n",
    "delta_arr=np.arange(0,1,0.1)\n",
    "train_df_3=delta_run(delta_arr,1000,train_3,response_3)\n",
    "test_df_3=delta_run(delta_arr,1000,test_3,y_3)\n",
    "\n",
    "'''Train 4, Test 4'''\n",
    "delta_arr=np.arange(0,1,0.1)\n",
    "train_df_4=delta_run(delta_arr,1000,train_4,response_4)\n",
    "test_df_4=delta_run(delta_arr,1000,test_4,y_4)"
   ]
  },
  {
   "cell_type": "code",
   "execution_count": 16,
   "metadata": {
    "collapsed": false
   },
   "outputs": [
    {
     "data": {
      "text/html": [
       "<div>\n",
       "<table border=\"1\" class=\"dataframe\">\n",
       "  <thead>\n",
       "    <tr style=\"text-align: right;\">\n",
       "      <th></th>\n",
       "      <th>delta_values</th>\n",
       "      <th>values_of_m</th>\n",
       "      <th>errors</th>\n",
       "    </tr>\n",
       "  </thead>\n",
       "  <tbody>\n",
       "    <tr>\n",
       "      <th>9923</th>\n",
       "      <td>0.9</td>\n",
       "      <td>923.0</td>\n",
       "      <td>0.107051</td>\n",
       "    </tr>\n",
       "  </tbody>\n",
       "</table>\n",
       "</div>"
      ],
      "text/plain": [
       "      delta_values  values_of_m    errors\n",
       "9923           0.9        923.0  0.107051"
      ]
     },
     "execution_count": 16,
     "metadata": {},
     "output_type": "execute_result"
    }
   ],
   "source": [
    "tr_df=(test_df_1+test_df_2+test_df_3+test_df_4)/4\n",
    "tr_df.loc[tr_df.errors==np.min(tr_df.errors)]"
   ]
  },
  {
   "cell_type": "code",
   "execution_count": 49,
   "metadata": {
    "collapsed": false
   },
   "outputs": [],
   "source": [
    "'''Ridge Regression'''\n",
    "from sklearn.linear_model import Ridge \n",
    "ridge=Ridge(normalize=True)\n",
    "ridge.fit(train_1,response_1)\n",
    "preds_ridge=ridge.predict(test_1)\n",
    "error_ridge1=np.mean(np.square(preds_ridge-y_1))\n",
    "\n",
    "ridge.fit(train_2,response_2)\n",
    "preds_ridge=ridge.predict(test_2)\n",
    "error_ridge2=np.mean(np.square(preds_ridge-y_2))\n",
    "\n",
    "ridge.fit(train_3,response_3)\n",
    "preds_ridge=ridge.predict(test_3)\n",
    "error_ridge3=np.mean(np.square(preds_ridge-y_3))\n",
    "\n",
    "ridge.fit(train_4,response_4)\n",
    "preds_ridge=ridge.predict(test_1)\n",
    "error_ridge4=np.mean(np.square(preds_ridge-y_4))\n",
    "\n",
    "error_ridge1= (error_ridge1+error_ridge2+error_ridge3+error_ridge4)/4"
   ]
  },
  {
   "cell_type": "code",
   "execution_count": 48,
   "metadata": {
    "collapsed": false
   },
   "outputs": [],
   "source": [
    "'''Lasso Regression'''\n",
    "from sklearn.linear_model import Lasso\n",
    "lasso=Lasso(normalize=True)\n",
    "lasso.fit(train_1,response_1)\n",
    "preds_lasso=lasso.predict(test_1)\n",
    "error_lasso1=np.mean(np.square(preds_lasso-y_1))\n",
    "\n",
    "lasso.fit(train_2,response_2)\n",
    "preds_lasso=lasso.predict(test_2)\n",
    "error_lasso2=np.mean(np.square(preds_lasso-y_2))\n",
    "\n",
    "lasso.fit(train_3,response_3)\n",
    "preds_lasso=lasso.predict(test_3)\n",
    "error_lasso3=np.mean(np.square(preds_lasso-y_3))\n",
    "\n",
    "lasso.fit(train_4,response_4)\n",
    "preds_lasso=lasso.predict(test_4)\n",
    "error_lasso4=np.mean(np.square(preds_lasso-y_4))\n",
    "\n",
    "error_lasso1=(error_lasso1+error_lasso2+error_lasso3+error_lasso4)/4"
   ]
  },
  {
   "cell_type": "code",
   "execution_count": 47,
   "metadata": {
    "collapsed": false
   },
   "outputs": [
    {
     "name": "stdout",
     "output_type": "stream",
     "text": [
      "Average Error Comparison of Dropout,Ridge, and Lasso respectively\n",
      "167.37007082060776 2.0684501580590284 4.175530836029512\n",
      "Minimum Error Comparison of Drouput,Ridge and Lasso\n",
      "0.107051075475\n",
      "3.59153416857\n",
      "1.22530681674\n",
      "Maximum Error Comparison of Drouput,Ridge and Lasso\n",
      "5.06851388732\n",
      "4.17553083603\n",
      "4.11829038141\n"
     ]
    }
   ],
   "source": [
    "print ('Average Error Comparison of Dropout,Ridge, and Lasso respectively')\n",
    "print(np.mean(np.mean(tr_df)),error_ridge1,error_lasso1) #Delta=0.9 M=194 Error=0.272328\n",
    "\n",
    "print ('Minimum Error Comparison of Drouput,Ridge and Lasso')\n",
    "print (tr_df.loc[tr_df.errors==np.min(tr_df.errors)].iloc[0,2])\n",
    "print (np.min(np.array([error_lasso1,error_lasso2,error_lasso3,error_lasso4])))\n",
    "print (np.min(np.array([error_ridge1,error_ridge2,error_ridge3,error_ridge4])))\n",
    "\n",
    "print ('Maximum Error Comparison of Drouput,Ridge and Lasso')\n",
    "print (tr_df.loc[tr_df.errors==np.max(tr_df.errors)].iloc[0,2])\n",
    "print (np.max(np.array([error_lasso1,error_lasso2,error_lasso3,error_lasso4])))\n",
    "print (np.max(np.array([error_ridge1,error_ridge2,error_ridge3,error_ridge4])))"
   ]
  }
 ],
 "metadata": {
  "anaconda-cloud": {},
  "kernelspec": {
   "display_name": "Python [default]",
   "language": "python",
   "name": "python3"
  },
  "language_info": {
   "codemirror_mode": {
    "name": "ipython",
    "version": 3
   },
   "file_extension": ".py",
   "mimetype": "text/x-python",
   "name": "python",
   "nbconvert_exporter": "python",
   "pygments_lexer": "ipython3",
   "version": "3.5.2"
  }
 },
 "nbformat": 4,
 "nbformat_minor": 1
}
