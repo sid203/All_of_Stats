{
 "cells": [
  {
   "cell_type": "code",
   "execution_count": 14,
   "metadata": {
    "collapsed": true
   },
   "outputs": [],
   "source": [
    "import os\n",
    "import numpy as np\n",
    "import pandas as pd\n",
    "\n",
    "'''Read Data'''\n",
    "def read_data():\n",
    "    data = pd.read_csv('tempo_hwdata.csv',encoding='utf8')\n",
    "    data = data.iloc[:,1:]\n",
    "    train_data = data.iloc[0:13,1:]\n",
    "    test_data = data.iloc[13:,1:]\n",
    "    return train_data,test_data\n",
    "\n",
    "'''Fill Missing Values'''\n",
    "def fill_nas(train_data,test_data):\n",
    "    '''Load the Data and Fill the NAS'''\n",
    "    x_variables_train = train_data.iloc[:,5:]\n",
    "    y_variable_train = train_data.iloc[:,0]\n",
    "    x_variables_train = x_variables_train.fillna(x_variables_train.mean(axis=0),inplace=True)\n",
    "    x_variables_test = test_data.iloc[:,5:]\n",
    "    x_variables_test = x_variables_test.fillna(x_variables_test.mean(axis=0),inplace=True)\n",
    "    return x_variables_train,y_variable_train,x_variables_test\n",
    "\n",
    "'''Calculate Error Function'''\n",
    "def loss_fun(preds,labels):\n",
    "    factors=[1,2,3,0.5,0.33]\n",
    "    loss_scores=[]\n",
    "    for fac in factors:\n",
    "        loss_scores.append(abs((preds*fac)-labels))\n",
    "\n",
    "    loss_df=pd.DataFrame(loss_scores).T\n",
    "    min_score=[]\n",
    "    for i in range(loss_df.shape[0]):\n",
    "        min_score.append(np.min(loss_df.iloc[i,:].values))\n",
    "    min_score=np.array(min_score)\n",
    "    err_fac=[0.04,-0.04]\n",
    "    err_list=[]\n",
    "    for val in err_fac:\n",
    "        err_list.append(min_score+min_score*val)\n",
    "        \n",
    "    err_df=pd.DataFrame(err_list).T\n",
    "    err_score=[]\n",
    "    for i in range(err_df.shape[0]):\n",
    "        err_score.append(np.min(err_df.iloc[i,:].values))\n",
    "    return np.sqrt(np.mean(np.array(err_score)**2))\n",
    "\n",
    "'''Find Multicollinearity'''\n",
    "def find_corr(orig_data):\n",
    "    another_matrix=orig_data.iloc[:,5:]\n",
    "    corr=another_matrix.corr()\n",
    "    corr_matrix=np.matrix(corr.values)\n",
    "    return np.mean(np.triu(corr_matrix))\n",
    "\n",
    "'''Prediction'''\n",
    "def predict(model,test_data):\n",
    "    return model.predict(test_data)"
   ]
  },
  {
   "cell_type": "code",
   "execution_count": 2,
   "metadata": {
    "collapsed": false
   },
   "outputs": [
    {
     "name": "stdout",
     "output_type": "stream",
     "text": [
      "Average Correlation among the Predictor Variable is\n"
     ]
    },
    {
     "data": {
      "text/plain": [
       "0.023151761836358357"
      ]
     },
     "execution_count": 2,
     "metadata": {},
     "output_type": "execute_result"
    }
   ],
   "source": [
    "data = pd.read_csv('tempo_hwdata.csv',encoding='utf8', index_col=0)\n",
    "data.fillna(np.mean(data, axis=0),inplace=True)\n",
    "print ('Average Correlation among the Predictor Variable is')\n",
    "find_corr(data)"
   ]
  },
  {
   "cell_type": "code",
   "execution_count": 3,
   "metadata": {
    "collapsed": false
   },
   "outputs": [],
   "source": [
    "train_data,test_data = read_data()\n",
    "features, correct_answer, test = fill_nas(train_data,test_data)"
   ]
  },
  {
   "cell_type": "code",
   "execution_count": 23,
   "metadata": {
    "collapsed": false
   },
   "outputs": [
    {
     "name": "stdout",
     "output_type": "stream",
     "text": [
      "The Overall Error in Ridge Regression Using Cross Validation is this\n"
     ]
    },
    {
     "data": {
      "text/plain": [
       "13.032626214111154"
      ]
     },
     "execution_count": 23,
     "metadata": {},
     "output_type": "execute_result"
    }
   ],
   "source": [
    "'''Ridge Regression'''\n",
    "alpha = np.arange(630,640,0.005)\n",
    "from sklearn import linear_model\n",
    "model= linear_model.RidgeCV(cv=3).fit(features, correct_answer)\n",
    "print ('The Overall Error in Ridge Regression Using Cross Validation is this')\n",
    "loss_fun(model.predict(test),data.iloc[13:,1])"
   ]
  },
  {
   "cell_type": "code",
   "execution_count": 24,
   "metadata": {
    "collapsed": false
   },
   "outputs": [
    {
     "name": "stdout",
     "output_type": "stream",
     "text": [
      "The Overall Error in Losso Regression Using Cross Validation is this\n"
     ]
    },
    {
     "data": {
      "text/plain": [
       "14.655889510891829"
      ]
     },
     "execution_count": 24,
     "metadata": {},
     "output_type": "execute_result"
    }
   ],
   "source": [
    "'''Lasso'''\n",
    "alpha = np.arange(630,640,0.005)\n",
    "from sklearn import linear_model\n",
    "model= linear_model.LassoCV(cv=3).fit(features, correct_answer)\n",
    "print ('The Overall Error in Losso Regression Using Cross Validation is this')\n",
    "loss_fun(model.predict(test),data.iloc[13:,1])"
   ]
  },
  {
   "cell_type": "code",
   "execution_count": 31,
   "metadata": {
    "collapsed": false
   },
   "outputs": [
    {
     "data": {
      "text/plain": [
       "Lasso(alpha=1.0, copy_X=True, fit_intercept=True, max_iter=1000,\n",
       "   normalize=True, positive=False, precompute=False, random_state=None,\n",
       "   selection='cyclic', tol=0.0001, warm_start=False)"
      ]
     },
     "execution_count": 31,
     "metadata": {},
     "output_type": "execute_result"
    }
   ],
   "source": [
    "from sklearn import linear_model\n",
    "lr = linear_model.Lasso(normalize=True,fit_intercept=True)\n",
    "lr.fit(features,correct_answer)"
   ]
  },
  {
   "cell_type": "code",
   "execution_count": 32,
   "metadata": {
    "collapsed": false
   },
   "outputs": [
    {
     "data": {
      "text/plain": [
       "array([ 131.57407785,   77.16386979,  100.01752192,   69.31342016,\n",
       "         94.6137009 ,   61.29642138,  162.52320936])"
      ]
     },
     "execution_count": 32,
     "metadata": {},
     "output_type": "execute_result"
    }
   ],
   "source": [
    "'''You can give the test Data Set for Prediction as a Parameter in Function Call below'''\n",
    "predict(lr,test)"
   ]
  }
 ],
 "metadata": {
  "anaconda-cloud": {},
  "kernelspec": {
   "display_name": "Python [default]",
   "language": "python",
   "name": "python3"
  },
  "language_info": {
   "codemirror_mode": {
    "name": "ipython",
    "version": 3
   },
   "file_extension": ".py",
   "mimetype": "text/x-python",
   "name": "python",
   "nbconvert_exporter": "python",
   "pygments_lexer": "ipython3",
   "version": "3.5.2"
  }
 },
 "nbformat": 4,
 "nbformat_minor": 1
}
